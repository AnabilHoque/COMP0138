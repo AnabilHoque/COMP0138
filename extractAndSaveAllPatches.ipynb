{
 "cells": [
  {
   "cell_type": "markdown",
   "metadata": {},
   "source": [
    "# Extract and save individual patches for all images"
   ]
  },
  {
   "cell_type": "code",
   "execution_count": 1,
   "metadata": {},
   "outputs": [],
   "source": [
    "import cv2\n",
    "import matplotlib.pyplot as plt\n",
    "import numpy as np\n",
    "import os\n",
    "import shutil"
   ]
  },
  {
   "cell_type": "markdown",
   "metadata": {},
   "source": [
    "We want to extract patches containing individual cells from seg.npy files which we get as a result of running CellPose."
   ]
  },
  {
   "cell_type": "code",
   "execution_count": 2,
   "metadata": {},
   "outputs": [],
   "source": [
    "def getImagesAndSegmentations(folderPath):\n",
    "    \"\"\"\n",
    "    This function is a utility function to retrieve all images and segmentations from a folder.\n",
    "    Input: folderPath - path to folder containing images and segmentations\n",
    "    Output: images - list of images, segmentations - list of corresponding segmentations data i.e., seg.npy files\n",
    "    \"\"\"\n",
    "    # retrieve all images and segmentations\n",
    "    allFiles = os.listdir(folderPath)\n",
    "    images = []\n",
    "    segmentations = []\n",
    "    for imgFile in allFiles:\n",
    "        # if we have an actual image i.e., ends with .png\n",
    "        if imgFile.endswith('.png'):\n",
    "            correspondingSegFile = imgFile.split('.')[0] + '_seg.npy'\n",
    "            imgFilePath = os.path.join(folderPath, imgFile)\n",
    "            segFilePath = os.path.join(folderPath, correspondingSegFile)\n",
    "            images.append(plt.imread(imgFilePath))\n",
    "            segmentations.append(np.load(segFilePath, allow_pickle=True).item())\n",
    "            \n",
    "    return images, segmentations"
   ]
  },
  {
   "cell_type": "code",
   "execution_count": 3,
   "metadata": {},
   "outputs": [],
   "source": [
    "def getCellPatches(image, segmentationData):\n",
    "    \"\"\"\n",
    "    Input: image - image to extract cell patches from, segmentationData - segmentation data for the image\n",
    "    Output: cellPatches - list of cell patches extracted from the image\n",
    "    \"\"\"\n",
    "    cellPatches = []\n",
    "    masksROI = segmentationData['masks']\n",
    "    uniqueLabels = np.unique(masksROI)\n",
    "\n",
    "    for l in uniqueLabels:\n",
    "        if l == 0:\n",
    "            # label for background so skip\n",
    "            continue\n",
    "\n",
    "        binMask = (masksROI == l).astype(np.uint8)\n",
    "        contours, _ = cv2.findContours(binMask, cv2.RETR_EXTERNAL, cv2.CHAIN_APPROX_SIMPLE)\n",
    "        x, y, w, h = cv2.boundingRect(contours[0])\n",
    "        roiPatch = image[:, :, 0:3][y:y+h, x:x+w, :].copy()\n",
    "\n",
    "        cellPatches.append(roiPatch)\n",
    "\n",
    "    return cellPatches\n",
    "\n",
    "def getCellPatchesWithNoBackgroundInfo(image, segmentationData):\n",
    "    \"\"\"\n",
    "    Input: image - image to extract cell patches from, segmentationData - segmentation data for the image\n",
    "    Output: cellPatches - list of cell patches extracted from the image with no background information\n",
    "    \"\"\"\n",
    "    cellPatches = []\n",
    "    masksROI = segmentationData['masks']\n",
    "    uniqueLabels = np.unique(masksROI)\n",
    "\n",
    "    for l in uniqueLabels:\n",
    "        if l == 0:\n",
    "            # label for background so skip\n",
    "            continue\n",
    "\n",
    "        binMask = (masksROI == l).astype(np.uint8)\n",
    "        contours, _ = cv2.findContours(binMask, cv2.RETR_EXTERNAL, cv2.CHAIN_APPROX_SIMPLE)\n",
    "        x, y, w, h = cv2.boundingRect(contours[0])\n",
    "        roiPatch = image[:, :, 0:3][y:y+h, x:x+w, :].copy()\n",
    "\n",
    "        # black out background\n",
    "        roiPatch[binMask[y:y+h, x:x+w] == 0] = 0\n",
    "\n",
    "        cellPatches.append(roiPatch)\n",
    "\n",
    "    return cellPatches\n",
    "\n",
    "def getCellPatchesBinMask(segmentationData):\n",
    "    \"\"\"\n",
    "    Input: segmentationData - segmentation data for the image\n",
    "    Output: binMasks - list of binary masks for each cell patch in the image\n",
    "    \"\"\"\n",
    "    binMasks = []\n",
    "    masksROI = segmentationData['masks']\n",
    "    uniqueLabels = np.unique(masksROI)\n",
    "\n",
    "    for l in uniqueLabels:\n",
    "        if l == 0:\n",
    "            # label for background so skip\n",
    "            continue\n",
    "\n",
    "        binMask = (masksROI == l).astype(np.uint8)\n",
    "\n",
    "        binMasks.append(binMask)\n",
    "\n",
    "    return binMasks\n",
    "\n",
    "def getCellPatchesBinMask2(segmentationData):\n",
    "    \"\"\"\n",
    "    Input: segmentationData - segmentation data for the image\n",
    "    Output: binMasks - list of binary masks for each cell patch in the image (restricted in size by the bounding box of the cell patch)\n",
    "    \"\"\"\n",
    "    binMasks = []\n",
    "    masksROI = segmentationData['masks']\n",
    "    uniqueLabels = np.unique(masksROI)\n",
    "\n",
    "    for l in uniqueLabels:\n",
    "        if l == 0:\n",
    "            # label for background so skip\n",
    "            continue\n",
    "\n",
    "        binMask = (masksROI == l).astype(np.uint8)\n",
    "        contours, _ = cv2.findContours(binMask, cv2.RETR_EXTERNAL, cv2.CHAIN_APPROX_SIMPLE)\n",
    "        x, y, w, h = cv2.boundingRect(contours[0])\n",
    "        binMask = binMask[y:y+h, x:x+w]\n",
    "\n",
    "        binMasks.append(binMask)\n",
    "\n",
    "    return binMasks"
   ]
  },
  {
   "cell_type": "code",
   "execution_count": 4,
   "metadata": {},
   "outputs": [],
   "source": [
    "allImages, allSegmentations = getImagesAndSegmentations(\"imagesAndSegmentations\")"
   ]
  },
  {
   "cell_type": "code",
   "execution_count": 5,
   "metadata": {},
   "outputs": [
    {
     "data": {
      "text/plain": [
       "(40, 40)"
      ]
     },
     "execution_count": 5,
     "metadata": {},
     "output_type": "execute_result"
    }
   ],
   "source": [
    "len(allImages), len(allSegmentations)"
   ]
  },
  {
   "cell_type": "markdown",
   "metadata": {},
   "source": [
    "Store all patches."
   ]
  },
  {
   "cell_type": "code",
   "execution_count": 6,
   "metadata": {},
   "outputs": [],
   "source": [
    "def getCellPatchesForAllImages(allImages, allSegmentations):\n",
    "    \"\"\"\n",
    "    Input: allImages - list of all images, allSegmentations - list of all segmentation data\n",
    "    Output: allPatches - list of all cell patches\n",
    "    \"\"\"\n",
    "    allPatches = []\n",
    "    for i in range(len(allImages)):\n",
    "        cellPatches = getCellPatches(allImages[i], allSegmentations[i])\n",
    "        allPatches.extend(cellPatches)\n",
    "\n",
    "    return allPatches"
   ]
  },
  {
   "cell_type": "code",
   "execution_count": 7,
   "metadata": {},
   "outputs": [],
   "source": [
    "allPatches = getCellPatchesForAllImages(allImages, allSegmentations)"
   ]
  },
  {
   "cell_type": "code",
   "execution_count": 13,
   "metadata": {},
   "outputs": [
    {
     "data": {
      "text/plain": [
       "<matplotlib.image.AxesImage at 0x1a69fca1050>"
      ]
     },
     "execution_count": 13,
     "metadata": {},
     "output_type": "execute_result"
    },
    {
     "data": {
      "image/png": "[encoded data removed]",
      "text/plain": [
       "<Figure size 640x480 with 1 Axes>"
      ]
     },
     "metadata": {},
     "output_type": "display_data"
    }
   ],
   "source": [
    "plt.imshow(allPatches[2])"
   ]
  },
  {
   "cell_type": "markdown",
   "metadata": {},
   "source": [
    "(Optional as it appears to better to store images with their contextual background information) Store all patches with no background information. "
   ]
  },
  {
   "cell_type": "code",
   "execution_count": 14,
   "metadata": {},
   "outputs": [],
   "source": [
    "def getCellPatchesForAllImagesWithNoBackgroundInfo(allImages, allSegmentations):\n",
    "    \"\"\"\n",
    "    Input: allImages - list of all images, allSegmentations - list of all segmentation data\n",
    "    Output: allPatches - list of all cell patches\n",
    "    \"\"\"\n",
    "    allPatchesWithNoBackgroundInfo = []\n",
    "    for i in range(len(allImages)):\n",
    "        cellPatches = getCellPatchesWithNoBackgroundInfo(allImages[i], allSegmentations[i])\n",
    "        allPatchesWithNoBackgroundInfo.extend(cellPatches)\n",
    "\n",
    "    return allPatchesWithNoBackgroundInfo"
   ]
  },
  {
   "cell_type": "code",
   "execution_count": 15,
   "metadata": {},
   "outputs": [],
   "source": [
    "allPatchesWithNoBackgroundInfo = getCellPatchesForAllImagesWithNoBackgroundInfo(allImages, allSegmentations)"
   ]
  },
  {
   "cell_type": "code",
   "execution_count": 16,
   "metadata": {},
   "outputs": [
    {
     "data": {
      "text/plain": [
       "<matplotlib.image.AxesImage at 0x1a6a9c317d0>"
      ]
     },
     "execution_count": 16,
     "metadata": {},
     "output_type": "execute_result"
    },
    {
     "data": {
      "image/png": "[encoded data removed]",
      "text/plain": [
       "<Figure size 640x480 with 1 Axes>"
      ]
     },
     "metadata": {},
     "output_type": "display_data"
    }
   ],
   "source": [
    "plt.imshow(allPatchesWithNoBackgroundInfo[2])"
   ]
  },
  {
   "cell_type": "markdown",
   "metadata": {},
   "source": [
    "Store all binary masks."
   ]
  },
  {
   "cell_type": "code",
   "execution_count": 17,
   "metadata": {},
   "outputs": [],
   "source": [
    "def getCellPatchesBinMaskForAllImages(allSegmentations):\n",
    "    \"\"\"\n",
    "    Input: allSegmentations - list of all segmentation data\n",
    "    Output: allBinMasks - list of all binary masks for each cell patch\n",
    "    \"\"\"\n",
    "    allBinMasks = []\n",
    "    for i in range(len(allSegmentations)):\n",
    "        binMasks = getCellPatchesBinMask(allSegmentations[i])\n",
    "        allBinMasks.extend(binMasks)\n",
    "\n",
    "    return allBinMasks"
   ]
  },
  {
   "cell_type": "code",
   "execution_count": 18,
   "metadata": {},
   "outputs": [],
   "source": [
    "allBinMasks = getCellPatchesBinMaskForAllImages(allSegmentations)"
   ]
  },
  {
   "cell_type": "code",
   "execution_count": 19,
   "metadata": {},
   "outputs": [
    {
     "data": {
      "text/plain": [
       "<matplotlib.image.AxesImage at 0x1a6ef4ef890>"
      ]
     },
     "execution_count": 19,
     "metadata": {},
     "output_type": "execute_result"
    },
    {
     "data": {
      "image/png": "[encoded data removed]",
      "text/plain": [
       "<Figure size 640x480 with 1 Axes>"
      ]
     },
     "metadata": {},
     "output_type": "display_data"
    }
   ],
   "source": [
    "plt.imshow(allBinMasks[2])"
   ]
  },
  {
   "cell_type": "markdown",
   "metadata": {},
   "source": [
    "Store all binary masks2."
   ]
  },
  {
   "cell_type": "code",
   "execution_count": 20,
   "metadata": {},
   "outputs": [],
   "source": [
    "def getCellPatchesBinMask2ForAllImages(allSegmentations):\n",
    "    \"\"\"\n",
    "    Input: allSegmentations - list of all segmentation data\n",
    "    Output: allBinMasks - list of all binary masks for each cell patch (restricted in size by the bounding box of the cell patch)\n",
    "    \"\"\"\n",
    "    allBinMasks = []\n",
    "    for i in range(len(allSegmentations)):\n",
    "        binMasks = getCellPatchesBinMask2(allSegmentations[i])\n",
    "        allBinMasks.extend(binMasks)\n",
    "\n",
    "    return allBinMasks"
   ]
  },
  {
   "cell_type": "code",
   "execution_count": 21,
   "metadata": {},
   "outputs": [],
   "source": [
    "allBinMasks2 = getCellPatchesBinMask2ForAllImages(allSegmentations)"
   ]
  },
  {
   "cell_type": "code",
   "execution_count": 22,
   "metadata": {},
   "outputs": [
    {
     "data": {
      "text/plain": [
       "<matplotlib.image.AxesImage at 0x1a701df97d0>"
      ]
     },
     "execution_count": 22,
     "metadata": {},
     "output_type": "execute_result"
    },
    {
     "data": {
      "image/png": "[encoded data removed]",
      "text/plain": [
       "<Figure size 640x480 with 1 Axes>"
      ]
     },
     "metadata": {},
     "output_type": "display_data"
    }
   ],
   "source": [
    "plt.imshow(allBinMasks2[2])"
   ]
  },
  {
   "cell_type": "markdown",
   "metadata": {},
   "source": [
    "We save all the patches and masks in a folder."
   ]
  },
  {
   "cell_type": "code",
   "execution_count": 23,
   "metadata": {},
   "outputs": [],
   "source": [
    "def saveAllPatches(folderName, rgbAllPatches):\n",
    "    \"\"\"\n",
    "    Input: folderName - name of folder to save patches to, rgbAllPatches - list of all cell patches\n",
    "    Output: None\n",
    "    \"\"\"\n",
    "    if os.path.exists(folderName):\n",
    "        shutil.rmtree(folderName)\n",
    "    os.mkdir(folderName)\n",
    "    for i in range(len(rgbAllPatches)):\n",
    "        # scale image from 0-1 to 0-255\n",
    "        scaledImage = (rgbAllPatches[i] * 255).astype(np.uint8)\n",
    "        # convert from 0-255 to BGR\n",
    "        bgrImage = cv2.cvtColor(scaledImage, cv2.COLOR_RGB2BGR)\n",
    "        # save image\n",
    "        imgPath = os.path.join(folderName, str(i) + '.png')\n",
    "        cv2.imwrite(imgPath, bgrImage)"
   ]
  },
  {
   "cell_type": "code",
   "execution_count": 24,
   "metadata": {},
   "outputs": [],
   "source": [
    "saveAllPatches(\"allCellPatches\", allPatches)"
   ]
  },
  {
   "cell_type": "code",
   "execution_count": 25,
   "metadata": {},
   "outputs": [],
   "source": [
    "saveAllPatches(\"allCellPatchesWithNoBackgroundInfo\", allPatchesWithNoBackgroundInfo)"
   ]
  },
  {
   "cell_type": "code",
   "execution_count": 26,
   "metadata": {},
   "outputs": [],
   "source": [
    "def saveAllBinMasks(folderName, allBinMasksGrayscale):\n",
    "    \"\"\"\n",
    "    Input: folderName - name of folder to save binary masks to, allBinMasksGrayscale - list of all binary masks\n",
    "    Output: None\n",
    "    \"\"\"\n",
    "    if os.path.exists(folderName):\n",
    "        shutil.rmtree(folderName)\n",
    "    os.mkdir(folderName)\n",
    "    for i in range(len(allBinMasksGrayscale)):\n",
    "        # scale image from 0-1 to 0-255 (if needed)\n",
    "        scaledImage = (allBinMasksGrayscale[i] * 255).astype(np.uint8) if np.max(allBinMasksGrayscale[i]) <= 1 else allBinMasksGrayscale[i].astype(np.uint8)\n",
    "        # save image\n",
    "        imgPath = os.path.join(folderName, str(i) + '_mask.png')\n",
    "        cv2.imwrite(imgPath, scaledImage)"
   ]
  },
  {
   "cell_type": "code",
   "execution_count": 27,
   "metadata": {},
   "outputs": [],
   "source": [
    "saveAllBinMasks(\"allCellPatchesBinMasks\", allBinMasks)"
   ]
  },
  {
   "cell_type": "code",
   "execution_count": 29,
   "metadata": {},
   "outputs": [],
   "source": [
    "saveAllBinMasks(\"allCellPatchesBinMasks2\", allBinMasks2)"
   ]
  }
 ],
 "metadata": {
  "kernelspec": {
   "display_name": "Python 3",
   "language": "python",
   "name": "python3"
  },
  "language_info": {
   "codemirror_mode": {
    "name": "ipython",
    "version": 3
   },
   "file_extension": ".py",
   "mimetype": "text/x-python",
   "name": "python",
   "nbconvert_exporter": "python",
   "pygments_lexer": "ipython3",
   "version": "3.11.2"
  }
 },
 "nbformat": 4,
 "nbformat_minor": 2
}
