{
  "cells": [
    {
      "cell_type": "markdown",
      "metadata": {
        "id": "LhUmlH9YbAUD"
      },
      "source": [
        "# We will run CellPose on train and test sets and evaluate results. Note the labelled data comes from human-in-the-loop approach (done via the GUI)."
      ]
    },
    {
      "cell_type": "markdown",
      "metadata": {
        "id": "t8NY3JyGcHuj"
      },
      "source": [
        "Note code is adapted from [CellPose](https://github.com/MouseLand/cellpose) page for our particular use case. Furthermore, the relevant papers for this code are [Cellpose: a generalist algorithm for cellular segmentation](https://t.co/kBMXmPp3Yn?amp=1), [Cellpose 2.0: how to train your own model](https://www.nature.com/articles/s41592-022-01663-4) and [Cellpose 3.0: one-click image restoration for improved segmentation](https://www.biorxiv.org/content/10.1101/2024.02.10.579780v1)."
      ]
    },
    {
      "cell_type": "markdown",
      "metadata": {
        "id": "YCZvnP3qecBF"
      },
      "source": [
        "## We first install Cellpose."
      ]
    },
    {
      "cell_type": "code",
      "execution_count": null,
      "metadata": {
        "colab": {
          "base_uri": "https://localhost:8080/"
        },
        "id": "u6MBvhwQeOfI",
        "outputId": "67bcf48e-371e-40ec-b6e0-7a855cbb1f94"
      },
      "outputs": [
        {
          "name": "stdout",
          "output_type": "stream",
          "text": [
            "Collecting opencv-python-headless<4.3\n",
            "  Downloading opencv_python_headless-3.4.18.65-cp36-abi3-manylinux_2_17_x86_64.manylinux2014_x86_64.whl (45.7 MB)\n",
            "\u001b[2K     \u001b[90m━━━━━━━━━━━━━━━━━━━━━━━━━━━━━━━━━━━━━━━━\u001b[0m \u001b[32m45.7/45.7 MB\u001b[0m \u001b[31m15.3 MB/s\u001b[0m eta \u001b[36m0:00:00\u001b[0m\n",
            "\u001b[?25hRequirement already satisfied: numpy>=1.21.2 in /usr/local/lib/python3.10/dist-packages (from opencv-python-headless<4.3) (1.25.2)\n",
            "Installing collected packages: opencv-python-headless\n",
            "  Attempting uninstall: opencv-python-headless\n",
            "    Found existing installation: opencv-python-headless 4.9.0.80\n",
            "    Uninstalling opencv-python-headless-4.9.0.80:\n",
            "      Successfully uninstalled opencv-python-headless-4.9.0.80\n",
            "\u001b[31mERROR: pip's dependency resolver does not currently take into account all the packages that are installed. This behaviour is the source of the following dependency conflicts.\n",
            "albumentations 1.3.1 requires opencv-python-headless>=4.1.1, but you have opencv-python-headless 3.4.18.65 which is incompatible.\n",
            "qudida 0.0.4 requires opencv-python-headless>=4.0.1, but you have opencv-python-headless 3.4.18.65 which is incompatible.\u001b[0m\u001b[31m\n",
            "\u001b[0mSuccessfully installed opencv-python-headless-3.4.18.65\n",
            "Collecting cellpose\n",
            "  Downloading cellpose-3.0.6-py3-none-any.whl (204 kB)\n",
            "\u001b[2K     \u001b[90m━━━━━━━━━━━━━━━━━━━━━━━━━━━━━━━━━━━━━━━━\u001b[0m \u001b[32m204.4/204.4 kB\u001b[0m \u001b[31m6.0 MB/s\u001b[0m eta \u001b[36m0:00:00\u001b[0m\n",
            "\u001b[?25hRequirement already satisfied: numpy>=1.20.0 in /usr/local/lib/python3.10/dist-packages (from cellpose) (1.25.2)\n",
            "Requirement already satisfied: scipy in /usr/local/lib/python3.10/dist-packages (from cellpose) (1.11.4)\n",
            "Requirement already satisfied: natsort in /usr/local/lib/python3.10/dist-packages (from cellpose) (8.4.0)\n",
            "Requirement already satisfied: tifffile in /usr/local/lib/python3.10/dist-packages (from cellpose) (2024.2.12)\n",
            "Requirement already satisfied: tqdm in /usr/local/lib/python3.10/dist-packages (from cellpose) (4.66.2)\n",
            "Requirement already satisfied: numba>=0.53.0 in /usr/local/lib/python3.10/dist-packages (from cellpose) (0.58.1)\n",
            "Requirement already satisfied: llvmlite in /usr/local/lib/python3.10/dist-packages (from cellpose) (0.41.1)\n",
            "Requirement already satisfied: torch>=1.6 in /usr/local/lib/python3.10/dist-packages (from cellpose) (2.1.0+cu121)\n",
            "Requirement already satisfied: opencv-python-headless in /usr/local/lib/python3.10/dist-packages (from cellpose) (3.4.18.65)\n",
            "Collecting fastremap (from cellpose)\n",
            "  Downloading fastremap-1.14.1-cp310-cp310-manylinux_2_17_x86_64.manylinux2014_x86_64.whl (6.0 MB)\n",
            "\u001b[2K     \u001b[90m━━━━━━━━━━━━━━━━━━━━━━━━━━━━━━━━━━━━━━━━\u001b[0m \u001b[32m6.0/6.0 MB\u001b[0m \u001b[31m27.7 MB/s\u001b[0m eta \u001b[36m0:00:00\u001b[0m\n",
            "\u001b[?25hCollecting imagecodecs (from cellpose)\n",
            "  Downloading imagecodecs-2024.1.1-cp310-cp310-manylinux_2_17_x86_64.manylinux2014_x86_64.whl (39.6 MB)\n",
            "\u001b[2K     \u001b[90m━━━━━━━━━━━━━━━━━━━━━━━━━━━━━━━━━━━━━━━━\u001b[0m \u001b[32m39.6/39.6 MB\u001b[0m \u001b[31m17.1 MB/s\u001b[0m eta \u001b[36m0:00:00\u001b[0m\n",
            "\u001b[?25hCollecting roifile (from cellpose)\n",
            "  Downloading roifile-2024.1.10-py3-none-any.whl (16 kB)\n",
            "Requirement already satisfied: filelock in /usr/local/lib/python3.10/dist-packages (from torch>=1.6->cellpose) (3.13.1)\n",
            "Requirement already satisfied: typing-extensions in /usr/local/lib/python3.10/dist-packages (from torch>=1.6->cellpose) (4.10.0)\n",
            "Requirement already satisfied: sympy in /usr/local/lib/python3.10/dist-packages (from torch>=1.6->cellpose) (1.12)\n",
            "Requirement already satisfied: networkx in /usr/local/lib/python3.10/dist-packages (from torch>=1.6->cellpose) (3.2.1)\n",
            "Requirement already satisfied: jinja2 in /usr/local/lib/python3.10/dist-packages (from torch>=1.6->cellpose) (3.1.3)\n",
            "Requirement already satisfied: fsspec in /usr/local/lib/python3.10/dist-packages (from torch>=1.6->cellpose) (2023.6.0)\n",
            "Requirement already satisfied: triton==2.1.0 in /usr/local/lib/python3.10/dist-packages (from torch>=1.6->cellpose) (2.1.0)\n",
            "Requirement already satisfied: MarkupSafe>=2.0 in /usr/local/lib/python3.10/dist-packages (from jinja2->torch>=1.6->cellpose) (2.1.5)\n",
            "Requirement already satisfied: mpmath>=0.19 in /usr/local/lib/python3.10/dist-packages (from sympy->torch>=1.6->cellpose) (1.3.0)\n",
            "Installing collected packages: roifile, imagecodecs, fastremap, cellpose\n",
            "Successfully installed cellpose-3.0.6 fastremap-1.14.1 imagecodecs-2024.1.1 roifile-2024.1.10\n"
          ]
        }
      ],
      "source": [
        "!pip install \"opencv-python-headless<4.3\"\n",
        "!pip install cellpose"
      ]
    },
    {
      "cell_type": "markdown",
      "metadata": {
        "id": "5wg6rqTbeoEw"
      },
      "source": [
        "Check CUDA version and that GPU is working in cellpose and import other libraries."
      ]
    },
    {
      "cell_type": "code",
      "execution_count": null,
      "metadata": {
        "colab": {
          "base_uri": "https://localhost:8080/"
        },
        "id": "9zQt0CNCekOX",
        "outputId": "237437db-fa38-4b83-a900-575526054f57"
      },
      "outputs": [
        {
          "name": "stdout",
          "output_type": "stream",
          "text": [
            "nvcc: NVIDIA (R) Cuda compiler driver\n",
            "Copyright (c) 2005-2023 NVIDIA Corporation\n",
            "Built on Tue_Aug_15_22:02:13_PDT_2023\n",
            "Cuda compilation tools, release 12.2, V12.2.140\n",
            "Build cuda_12.2.r12.2/compiler.33191640_0\n",
            "Wed Mar  6 16:13:57 2024       \n",
            "+---------------------------------------------------------------------------------------+\n",
            "| NVIDIA-SMI 535.104.05             Driver Version: 535.104.05   CUDA Version: 12.2     |\n",
            "|-----------------------------------------+----------------------+----------------------+\n",
            "| GPU  Name                 Persistence-M | Bus-Id        Disp.A | Volatile Uncorr. ECC |\n",
            "| Fan  Temp   Perf          Pwr:Usage/Cap |         Memory-Usage | GPU-Util  Compute M. |\n",
            "|                                         |                      |               MIG M. |\n",
            "|=========================================+======================+======================|\n",
            "|   0  Tesla T4                       Off | 00000000:00:04.0 Off |                    0 |\n",
            "| N/A   64C    P8              10W /  70W |      0MiB / 15360MiB |      0%      Default |\n",
            "|                                         |                      |                  N/A |\n",
            "+-----------------------------------------+----------------------+----------------------+\n",
            "                                                                                         \n",
            "+---------------------------------------------------------------------------------------+\n",
            "| Processes:                                                                            |\n",
            "|  GPU   GI   CI        PID   Type   Process name                            GPU Memory |\n",
            "|        ID   ID                                                             Usage      |\n",
            "|=======================================================================================|\n",
            "|  No running processes found                                                           |\n",
            "+---------------------------------------------------------------------------------------+\n",
            ">>> GPU activated? YES\n"
          ]
        }
      ],
      "source": [
        "!nvcc --version\n",
        "!nvidia-smi\n",
        "\n",
        "import os, shutil\n",
        "import numpy as np\n",
        "import matplotlib.pyplot as plt\n",
        "from cellpose import core, utils, io, models, metrics\n",
        "from cellpose.io import logger_setup\n",
        "from glob import glob\n",
        "\n",
        "use_GPU = core.use_gpu()\n",
        "yn = ['NO', 'YES']\n",
        "print(f'>>> GPU activated? {yn[use_GPU]}')"
      ]
    },
    {
      "cell_type": "markdown",
      "metadata": {
        "id": "1kFv7zfogA2E"
      },
      "source": [
        "## Mount Google Drive."
      ]
    },
    {
      "cell_type": "code",
      "execution_count": null,
      "metadata": {
        "colab": {
          "base_uri": "https://localhost:8080/"
        },
        "id": "JfPxlXrNgBl7",
        "outputId": "66d9554e-4d81-429f-ca59-1cd42e37eb40"
      },
      "outputs": [
        {
          "name": "stdout",
          "output_type": "stream",
          "text": [
            "Mounted at /content/gdrive\n"
          ]
        }
      ],
      "source": [
        "from google.colab import drive\n",
        "drive.mount('/content/gdrive')"
      ]
    },
    {
      "cell_type": "markdown",
      "metadata": {
        "id": "aGuu5CSmfwS3"
      },
      "source": [
        "## Define the path to train and test images and masks, as well as the path to where we will save our models."
      ]
    },
    {
      "cell_type": "code",
      "execution_count": null,
      "metadata": {
        "id": "gOTxXQd4f2yh"
      },
      "outputs": [],
      "source": [
        "#@markdown ###Path to images and masks:\n",
        "train_dir = \"/content/gdrive/MyDrive/glialCellsImages/train\" #@param {type:\"string\"}\n",
        "test_dir = \"/content/gdrive/MyDrive/glialCellsImages/test\" #@param {type:\"string\"}"
      ]
    },
    {
      "cell_type": "markdown",
      "metadata": {
        "id": "nzYy4Q4gfpKH"
      },
      "source": [
        "## Training cyto Model."
      ]
    },
    {
      "cell_type": "code",
      "execution_count": null,
      "metadata": {
        "id": "nX51bgr6fo1v"
      },
      "outputs": [],
      "source": [
        "# model name and path\n",
        "#@markdown ###Name of the pretrained model to start from and new model name:\n",
        "from cellpose import models\n",
        "initial_model = \"cyto\" #@param ['cyto','nuclei','tissuenet','livecell','cyto2','CP','CPx','TN1','TN2','TN3','LC1','LC2','LC3','LC4','scratch']\n",
        "model_name = \"cytoModelTrained\" #@param {type:\"string\"}\n",
        "\n",
        "# other parameters for training.\n",
        "#@markdown ###Training Parameters:\n",
        "#@markdown Number of epochs:\n",
        "n_epochs =  100#@param {type:\"number\"}\n",
        "\n",
        "Channel_to_use_for_training = \"Green\" #@param [\"Grayscale\", \"Blue\", \"Green\", \"Red\"]\n",
        "\n",
        "Second_training_channel= \"Blue\" #@param [\"None\", \"Blue\", \"Green\", \"Red\"]\n",
        "\n",
        "learning_rate = 0.1 #@param {type:\"number\"}\n",
        "weight_decay = 0.0001 #@param {type:\"number\"}\n",
        "\n",
        "#here we check that no model with the same name already exist, if so delete\n",
        "model_path = train_dir + 'models/'\n",
        "if os.path.exists(model_path+'/'+model_name):\n",
        "  print(\"!! WARNING: \"+model_name+\" already exists and will be deleted in the following cell !!\")\n",
        "\n",
        "# Here we match the channel to number\n",
        "if Channel_to_use_for_training == \"Grayscale\":\n",
        "  chan = 0\n",
        "elif Channel_to_use_for_training == \"Blue\":\n",
        "  chan = 3\n",
        "elif Channel_to_use_for_training == \"Green\":\n",
        "  chan = 2\n",
        "elif Channel_to_use_for_training == \"Red\":\n",
        "  chan = 1\n",
        "\n",
        "if Second_training_channel == \"Blue\":\n",
        "  chan2 = 3\n",
        "elif Second_training_channel == \"Green\":\n",
        "  chan2 = 2\n",
        "elif Second_training_channel == \"Red\":\n",
        "  chan2 = 1\n",
        "elif Second_training_channel == \"None\":\n",
        "  chan2 = 0\n",
        "\n",
        "if initial_model=='scratch':\n",
        "  initial_model = 'None'"
      ]
    },
    {
      "cell_type": "code",
      "execution_count": null,
      "metadata": {
        "colab": {
          "base_uri": "https://localhost:8080/"
        },
        "id": "djLWDEHl7me6",
        "outputId": "4781f0ca-aa17-4334-b560-a13a63e5b398"
      },
      "outputs": [
        {
          "name": "stderr",
          "output_type": "stream",
          "text": [
            "100%|██████████| 5/5 [00:02<00:00,  1.73it/s]\n",
            "100%|██████████| 1/1 [00:00<00:00, 84.77it/s]\n",
            "100%|██████████| 5/5 [00:00<00:00, 105.44it/s]\n",
            "100%|██████████| 2/2 [00:00<00:00,  2.27it/s]\n",
            "100%|██████████| 5/5 [00:02<00:00,  1.73it/s]\n",
            "100%|██████████| 2/2 [00:00<00:00, 162.20it/s]\n",
            "100%|██████████| 5/5 [00:00<00:00, 184.55it/s]\n",
            "100%|██████████| 3/3 [00:01<00:00,  2.20it/s]\n",
            "100%|██████████| 5/5 [00:02<00:00,  1.67it/s]\n",
            "100%|██████████| 3/3 [00:00<00:00, 138.00it/s]\n",
            "100%|██████████| 5/5 [00:00<00:00, 139.47it/s]\n",
            "100%|██████████| 4/4 [00:01<00:00,  2.27it/s]\n",
            "100%|██████████| 5/5 [00:02<00:00,  1.69it/s]\n",
            "100%|██████████| 4/4 [00:00<00:00, 134.07it/s]\n",
            "100%|██████████| 5/5 [00:00<00:00, 113.60it/s]\n",
            "100%|██████████| 5/5 [00:02<00:00,  2.25it/s]\n",
            "100%|██████████| 5/5 [00:02<00:00,  1.76it/s]\n",
            "100%|██████████| 5/5 [00:00<00:00, 179.25it/s]\n",
            "100%|██████████| 5/5 [00:00<00:00, 187.22it/s]\n",
            "100%|██████████| 6/6 [00:02<00:00,  2.13it/s]\n",
            "100%|██████████| 5/5 [00:02<00:00,  1.76it/s]\n",
            "100%|██████████| 6/6 [00:00<00:00, 183.15it/s]\n",
            "100%|██████████| 5/5 [00:00<00:00, 152.08it/s]\n",
            "100%|██████████| 7/7 [00:03<00:00,  2.07it/s]\n",
            "100%|██████████| 5/5 [00:02<00:00,  1.76it/s]\n",
            "100%|██████████| 7/7 [00:00<00:00, 120.72it/s]\n",
            "100%|██████████| 5/5 [00:00<00:00, 114.10it/s]\n",
            "100%|██████████| 8/8 [00:03<00:00,  2.13it/s]\n",
            "100%|██████████| 5/5 [00:02<00:00,  1.76it/s]\n",
            "100%|██████████| 8/8 [00:00<00:00, 188.93it/s]\n",
            "100%|██████████| 5/5 [00:00<00:00, 186.43it/s]\n",
            "100%|██████████| 9/9 [00:04<00:00,  2.14it/s]\n",
            "100%|██████████| 5/5 [00:02<00:00,  1.76it/s]\n",
            "100%|██████████| 9/9 [00:00<00:00, 191.92it/s]\n",
            "100%|██████████| 5/5 [00:00<00:00, 183.83it/s]\n",
            "100%|██████████| 10/10 [00:04<00:00,  2.23it/s]\n",
            "100%|██████████| 5/5 [00:02<00:00,  1.75it/s]\n",
            "100%|██████████| 10/10 [00:00<00:00, 166.60it/s]\n",
            "100%|██████████| 5/5 [00:00<00:00, 160.37it/s]\n",
            "100%|██████████| 11/11 [00:05<00:00,  2.17it/s]\n",
            "100%|██████████| 5/5 [00:02<00:00,  1.76it/s]\n",
            "100%|██████████| 11/11 [00:00<00:00, 192.43it/s]\n",
            "100%|██████████| 5/5 [00:00<00:00, 188.49it/s]\n",
            "100%|██████████| 12/12 [00:05<00:00,  2.24it/s]\n",
            "100%|██████████| 5/5 [00:02<00:00,  1.75it/s]\n",
            "100%|██████████| 12/12 [00:00<00:00, 136.81it/s]\n",
            "100%|██████████| 5/5 [00:00<00:00, 118.21it/s]\n",
            "100%|██████████| 13/13 [00:06<00:00,  2.13it/s]\n",
            "100%|██████████| 5/5 [00:02<00:00,  1.73it/s]\n",
            "100%|██████████| 13/13 [00:00<00:00, 191.22it/s]\n",
            "100%|██████████| 5/5 [00:00<00:00, 189.82it/s]\n",
            "100%|██████████| 14/14 [00:07<00:00,  1.96it/s]\n",
            "100%|██████████| 5/5 [00:02<00:00,  1.77it/s]\n",
            "100%|██████████| 14/14 [00:00<00:00, 188.44it/s]\n",
            "100%|██████████| 5/5 [00:00<00:00, 181.83it/s]\n",
            "100%|██████████| 15/15 [00:07<00:00,  1.90it/s]\n",
            "100%|██████████| 5/5 [00:02<00:00,  1.76it/s]\n",
            "100%|██████████| 15/15 [00:00<00:00, 172.11it/s]\n",
            "100%|██████████| 5/5 [00:00<00:00, 157.63it/s]\n"
          ]
        }
      ],
      "source": [
        "# logger to see training across epochs\n",
        "from cellpose.io import logger_setup\n",
        "from cellpose import train\n",
        "\n",
        "logger_setup()\n",
        "\n",
        "# set channels\n",
        "channels = [chan, chan2]\n",
        "\n",
        "# get files\n",
        "output = io.load_train_test_data(train_dir, test_dir, mask_filter='_seg.npy')\n",
        "train_data, train_labels, _, test_data, test_labels, _ = output\n",
        "\n",
        "# Initialize lists to store IoUs and ROI counts\n",
        "ious = []\n",
        "roi_counts = []\n",
        "\n",
        "# Iterate over each training image\n",
        "for i in range(len(train_data)):\n",
        "    # DEFINE CELLPOSE MODEL (without size model)\n",
        "    model = models.CellposeModel(gpu=use_GPU, model_type=initial_model)\n",
        "\n",
        "    # Train the model\n",
        "    new_model_path = train.train_seg(model.net, train_data=train_data[:i+1],\n",
        "                              train_labels=train_labels[:i+1],\n",
        "                              test_data=test_data,\n",
        "                              test_labels=test_labels,\n",
        "                              channels=channels,\n",
        "                              save_path=train_dir,\n",
        "                              n_epochs=n_epochs,\n",
        "                              learning_rate=learning_rate,\n",
        "                              weight_decay=weight_decay,\n",
        "                              SGD=True,\n",
        "                              nimg_per_epoch=8,\n",
        "                              model_name=f\"{model_name}_{i+1}\")\n",
        "\n",
        "    # diameter of labels in training images\n",
        "    diam_labels = model.net.diam_labels.item()\n",
        "\n",
        "    # Evaluate the model on the test dataset\n",
        "    masks = model.eval(test_data, channels=channels, diameter=diam_labels)[0]\n",
        "\n",
        "    # Compute IoU for each test image and average\n",
        "    ap = metrics.average_precision(test_labels, masks)[0]\n",
        "    mean_iou = ap[:, 0].mean()\n",
        "    ious.append(mean_iou)\n",
        "\n",
        "    seg_file_path = \"/content/gdrive/MyDrive/glialCellsImages/train/train\" + str(i+1) + \"_seg.npy\"\n",
        "    seg_file = np.load(seg_file_path, allow_pickle=True).item()\n",
        "    roi_count = len(np.unique(seg_file['masks']))-1 # minus 1 since we don't consider background ROI\n",
        "\n",
        "    roi_counts.append(roi_count)"
      ]
    },
    {
      "cell_type": "code",
      "execution_count": null,
      "metadata": {
        "colab": {
          "base_uri": "https://localhost:8080/"
        },
        "id": "1BHfCBG60s7I",
        "outputId": "320cf336-1541-4613-eb21-c05069dcfac8"
      },
      "outputs": [
        {
          "data": {
            "text/plain": [
              "[0.7622619,\n",
              " 0.79567593,\n",
              " 0.8616152,\n",
              " 0.8427318,\n",
              " 0.847335,\n",
              " 0.84585935,\n",
              " 0.8336004,\n",
              " 0.8476933,\n",
              " 0.8377553,\n",
              " 0.8601147,\n",
              " 0.842868,\n",
              " 0.84748113,\n",
              " 0.85338545,\n",
              " 0.838006,\n",
              " 0.85165817]"
            ]
          },
          "execution_count": 20,
          "metadata": {},
          "output_type": "execute_result"
        }
      ],
      "source": [
        "ious"
      ]
    },
    {
      "cell_type": "code",
      "execution_count": null,
      "metadata": {
        "colab": {
          "base_uri": "https://localhost:8080/"
        },
        "id": "LkrOE6Yd03RU",
        "outputId": "81855b40-976f-4718-a06a-34b2dc976b44"
      },
      "outputs": [
        {
          "data": {
            "text/plain": [
              "[59, 135, 88, 113, 142, 149, 111, 71, 79, 81, 183, 94, 52, 60, 93]"
            ]
          },
          "execution_count": 21,
          "metadata": {},
          "output_type": "execute_result"
        }
      ],
      "source": [
        "roi_counts"
      ]
    },
    {
      "cell_type": "markdown",
      "metadata": {
        "id": "tHlF0bTM1PnN"
      },
      "source": [
        "## Cyto Model: Final iou given 15 images."
      ]
    },
    {
      "cell_type": "code",
      "execution_count": null,
      "metadata": {
        "colab": {
          "base_uri": "https://localhost:8080/"
        },
        "id": "3Z5CSXdU1aLG",
        "outputId": "43afad26-103e-4661-8841-4bf16fd36609"
      },
      "outputs": [
        {
          "name": "stdout",
          "output_type": "stream",
          "text": [
            ">>> average precision at iou threshold 0.5 for final cyto model = 0.852\n"
          ]
        }
      ],
      "source": [
        "print(f'>>> average precision at iou threshold 0.5 for final cyto model = {ious[-1]:.3f}')"
      ]
    },
    {
      "cell_type": "markdown",
      "metadata": {
        "id": "zcbCxmhX1l58"
      },
      "source": [
        "## Cyto Model: Plot of average precision at iou = 0.5 against number of training ROIs."
      ]
    },
    {
      "cell_type": "code",
      "execution_count": null,
      "metadata": {
        "colab": {
          "base_uri": "https://localhost:8080/",
          "height": 472
        },
        "id": "f6DjWbui1lmi",
        "outputId": "27bf0d7a-9cfb-4b93-fd5e-7708d59d34ea"
      },
      "outputs": [
        {
          "data": {
            "image/png": "[encoded data removed]",
            "text/plain": [
              "<Figure size 640x480 with 1 Axes>"
            ]
          },
          "metadata": {},
          "output_type": "display_data"
        }
      ],
      "source": [
        "# Calculate cumulative sum of ROI counts\n",
        "cumulative_roi_counts = [sum(roi_counts[:i+1]) for i in range(len(roi_counts))]\n",
        "\n",
        "# Plotting\n",
        "plt.plot(cumulative_roi_counts, ious, marker='o')\n",
        "plt.xlabel('Number of Training ROIs')\n",
        "plt.ylabel('Average Precision at IOU = 0.5')\n",
        "plt.title('Cyto Model (on all test images)')\n",
        "plt.show()"
      ]
    },
    {
      "cell_type": "markdown",
      "metadata": {
        "id": "kY8iJ6Fyg2Tq"
      },
      "source": [
        "## Optional code to check if the average precision at roi = 0.5 for individual pretrained models were correct. Note you can change the pretrained_model path to check your own model on the test set."
      ]
    },
    {
      "cell_type": "code",
      "execution_count": null,
      "metadata": {
        "colab": {
          "base_uri": "https://localhost:8080/"
        },
        "id": "yZfEls02hCQl",
        "outputId": "67469ad0-ad1f-48c6-a2aa-d0994e927e83"
      },
      "outputs": [
        {
          "name": "stdout",
          "output_type": "stream",
          "text": [
            "\n",
            ">>> average precision at iou threshold 0.5 = 0.852\n"
          ]
        }
      ],
      "source": [
        "# declare model\n",
        "model = models.CellposeModel(gpu=True,\n",
        "                             pretrained_model='/content/gdrive/MyDrive/glialCellsImages/train/models/cytoModelTrained_15')\n",
        "\n",
        "# use model diameter\n",
        "diameter = model.diam_labels\n",
        "\n",
        "# get files (during training, test_data is transformed so we will load it again)\n",
        "output = io.load_train_test_data(test_dir, mask_filter='_seg.npy')\n",
        "test_data, test_labels = output[:2]\n",
        "\n",
        "# run model on test images\n",
        "masks = model.eval(test_data,\n",
        "                   channels=[chan, chan2],\n",
        "                   diameter=diameter)[0]\n",
        "\n",
        "# check performance using ground truth labels\n",
        "ap = metrics.average_precision(test_labels, masks)[0]\n",
        "print('')\n",
        "print(f'>>> average precision at iou threshold 0.5 = {ap[:,0].mean():.3f}')"
      ]
    },
    {
      "cell_type": "markdown",
      "metadata": {
        "id": "GWvlhV2E9e0c"
      },
      "source": [
        "## Training cyto2 Model."
      ]
    },
    {
      "cell_type": "code",
      "execution_count": null,
      "metadata": {
        "id": "uR_1I1q39oM7"
      },
      "outputs": [],
      "source": [
        "# model name and path\n",
        "#@markdown ###Name of the pretrained model to start from and new model name:\n",
        "from cellpose import models\n",
        "initial_model = \"cyto2\" #@param ['cyto','nuclei','tissuenet','livecell','cyto2','CP','CPx','TN1','TN2','TN3','LC1','LC2','LC3','LC4','scratch']\n",
        "model_name = \"cyto2ModelTrained\" #@param {type:\"string\"}\n",
        "\n",
        "# other parameters for training.\n",
        "#@markdown ###Training Parameters:\n",
        "#@markdown Number of epochs:\n",
        "n_epochs =  100#@param {type:\"number\"}\n",
        "\n",
        "Channel_to_use_for_training = \"Green\" #@param [\"Grayscale\", \"Blue\", \"Green\", \"Red\"]\n",
        "\n",
        "Second_training_channel= \"Blue\" #@param [\"None\", \"Blue\", \"Green\", \"Red\"]\n",
        "\n",
        "learning_rate = 0.1 #@param {type:\"number\"}\n",
        "weight_decay = 0.0001 #@param {type:\"number\"}\n",
        "\n",
        "#here we check that no model with the same name already exist, if so delete\n",
        "model_path = train_dir + 'models/'\n",
        "if os.path.exists(model_path+'/'+model_name):\n",
        "  print(\"!! WARNING: \"+model_name+\" already exists and will be deleted in the following cell !!\")\n",
        "\n",
        "# Here we match the channel to number\n",
        "if Channel_to_use_for_training == \"Grayscale\":\n",
        "  chan = 0\n",
        "elif Channel_to_use_for_training == \"Blue\":\n",
        "  chan = 3\n",
        "elif Channel_to_use_for_training == \"Green\":\n",
        "  chan = 2\n",
        "elif Channel_to_use_for_training == \"Red\":\n",
        "  chan = 1\n",
        "\n",
        "if Second_training_channel == \"Blue\":\n",
        "  chan2 = 3\n",
        "elif Second_training_channel == \"Green\":\n",
        "  chan2 = 2\n",
        "elif Second_training_channel == \"Red\":\n",
        "  chan2 = 1\n",
        "elif Second_training_channel == \"None\":\n",
        "  chan2 = 0\n",
        "\n",
        "if initial_model=='scratch':\n",
        "  initial_model = 'None'"
      ]
    },
    {
      "cell_type": "code",
      "execution_count": null,
      "metadata": {
        "colab": {
          "base_uri": "https://localhost:8080/"
        },
        "id": "7oQF-Mf890CU",
        "outputId": "8c84fa9f-99b7-4181-96de-aa249cc89e18"
      },
      "outputs": [
        {
          "name": "stderr",
          "output_type": "stream",
          "text": [
            "100%|██████████| 25.3M/25.3M [00:00<00:00, 29.0MB/s]\n",
            "100%|██████████| 5/5 [00:02<00:00,  1.75it/s]\n",
            "100%|██████████| 1/1 [00:00<00:00, 140.38it/s]\n",
            "100%|██████████| 5/5 [00:00<00:00, 179.24it/s]\n",
            "100%|██████████| 2/2 [00:00<00:00,  2.34it/s]\n",
            "100%|██████████| 5/5 [00:02<00:00,  1.73it/s]\n",
            "100%|██████████| 2/2 [00:00<00:00, 167.48it/s]\n",
            "100%|██████████| 5/5 [00:00<00:00, 188.13it/s]\n",
            "100%|██████████| 3/3 [00:01<00:00,  2.20it/s]\n",
            "100%|██████████| 5/5 [00:02<00:00,  1.74it/s]\n",
            "100%|██████████| 3/3 [00:00<00:00, 167.52it/s]\n",
            "100%|██████████| 5/5 [00:00<00:00, 188.78it/s]\n",
            "100%|██████████| 4/4 [00:01<00:00,  2.37it/s]\n",
            "100%|██████████| 5/5 [00:02<00:00,  1.75it/s]\n",
            "100%|██████████| 4/4 [00:00<00:00, 174.82it/s]\n",
            "100%|██████████| 5/5 [00:00<00:00, 187.52it/s]\n",
            "100%|██████████| 5/5 [00:02<00:00,  2.28it/s]\n",
            "100%|██████████| 5/5 [00:02<00:00,  1.74it/s]\n",
            "100%|██████████| 5/5 [00:00<00:00, 120.01it/s]\n",
            "100%|██████████| 5/5 [00:00<00:00, 120.99it/s]\n",
            "100%|██████████| 6/6 [00:02<00:00,  2.14it/s]\n",
            "100%|██████████| 5/5 [00:02<00:00,  1.76it/s]\n",
            "100%|██████████| 6/6 [00:00<00:00, 138.69it/s]\n",
            "100%|██████████| 5/5 [00:00<00:00, 141.21it/s]\n",
            "100%|██████████| 7/7 [00:03<00:00,  2.08it/s]\n",
            "100%|██████████| 5/5 [00:02<00:00,  1.72it/s]\n",
            "100%|██████████| 7/7 [00:00<00:00, 187.14it/s]\n",
            "100%|██████████| 5/5 [00:00<00:00, 186.45it/s]\n",
            "100%|██████████| 8/8 [00:03<00:00,  2.16it/s]\n",
            "100%|██████████| 5/5 [00:02<00:00,  1.76it/s]\n",
            "100%|██████████| 8/8 [00:00<00:00, 178.76it/s]\n",
            "100%|██████████| 5/5 [00:00<00:00, 178.08it/s]\n",
            "100%|██████████| 9/9 [00:04<00:00,  2.21it/s]\n",
            "100%|██████████| 5/5 [00:02<00:00,  1.76it/s]\n",
            "100%|██████████| 9/9 [00:00<00:00, 192.03it/s]\n",
            "100%|██████████| 5/5 [00:00<00:00, 193.55it/s]\n",
            "100%|██████████| 10/10 [00:04<00:00,  2.24it/s]\n",
            "100%|██████████| 5/5 [00:02<00:00,  1.76it/s]\n",
            "100%|██████████| 10/10 [00:00<00:00, 193.66it/s]\n",
            "100%|██████████| 5/5 [00:00<00:00, 181.73it/s]\n",
            "100%|██████████| 11/11 [00:05<00:00,  2.18it/s]\n",
            "100%|██████████| 5/5 [00:02<00:00,  1.76it/s]\n",
            "100%|██████████| 11/11 [00:00<00:00, 129.98it/s]\n",
            "100%|██████████| 5/5 [00:00<00:00, 127.28it/s]\n",
            "100%|██████████| 12/12 [00:05<00:00,  2.23it/s]\n",
            "100%|██████████| 5/5 [00:02<00:00,  1.73it/s]\n",
            "100%|██████████| 12/12 [00:00<00:00, 137.96it/s]\n",
            "100%|██████████| 5/5 [00:00<00:00, 114.61it/s]\n",
            "100%|██████████| 13/13 [00:06<00:00,  2.12it/s]\n",
            "100%|██████████| 5/5 [00:02<00:00,  1.73it/s]\n",
            "100%|██████████| 13/13 [00:00<00:00, 170.30it/s]\n",
            "100%|██████████| 5/5 [00:00<00:00, 158.23it/s]\n",
            "100%|██████████| 14/14 [00:07<00:00,  1.96it/s]\n",
            "100%|██████████| 5/5 [00:02<00:00,  1.77it/s]\n",
            "100%|██████████| 14/14 [00:00<00:00, 194.75it/s]\n",
            "100%|██████████| 5/5 [00:00<00:00, 188.16it/s]\n",
            "100%|██████████| 15/15 [00:07<00:00,  1.92it/s]\n",
            "100%|██████████| 5/5 [00:02<00:00,  1.76it/s]\n",
            "100%|██████████| 15/15 [00:00<00:00, 183.60it/s]\n",
            "100%|██████████| 5/5 [00:00<00:00, 179.58it/s]\n"
          ]
        }
      ],
      "source": [
        "# logger to see training across epochs\n",
        "from cellpose.io import logger_setup\n",
        "from cellpose import train\n",
        "\n",
        "logger_setup();\n",
        "\n",
        "# set channels\n",
        "channels = [chan, chan2]\n",
        "\n",
        "# get files\n",
        "output = io.load_train_test_data(train_dir, test_dir, mask_filter='_seg.npy')\n",
        "train_data, train_labels, _, test_data, test_labels, _ = output\n",
        "\n",
        "# Initialize lists to store IoUs and ROI counts\n",
        "ious = []\n",
        "roi_counts = []\n",
        "\n",
        "# Iterate over each training image\n",
        "for i in range(len(train_data)):\n",
        "    # DEFINE CELLPOSE MODEL (without size model)\n",
        "    model = models.CellposeModel(gpu=use_GPU, model_type=initial_model)\n",
        "\n",
        "    # Train the model\n",
        "    new_model_path = train.train_seg(model.net, train_data=train_data[:i+1],\n",
        "                              train_labels=train_labels[:i+1],\n",
        "                              test_data=test_data,\n",
        "                              test_labels=test_labels,\n",
        "                              channels=channels,\n",
        "                              save_path=train_dir,\n",
        "                              n_epochs=n_epochs,\n",
        "                              learning_rate=learning_rate,\n",
        "                              weight_decay=weight_decay,\n",
        "                              SGD=True,\n",
        "                              nimg_per_epoch=8,\n",
        "                              model_name=f\"{model_name}_{i+1}\")\n",
        "\n",
        "    # diameter of labels in training images\n",
        "    diam_labels = model.net.diam_labels.item()\n",
        "\n",
        "    # Evaluate the model on the test dataset\n",
        "    masks = model.eval(test_data, channels=channels, diameter=diam_labels)[0]\n",
        "\n",
        "    # Compute IoU for each test image and average\n",
        "    ap = metrics.average_precision(test_labels, masks)[0]\n",
        "    mean_iou = ap[:, 0].mean()\n",
        "    ious.append(mean_iou)\n",
        "\n",
        "    seg_file_path = \"/content/gdrive/MyDrive/glialCellsImages/train/train\" + str(i+1) + \"_seg.npy\"\n",
        "    seg_file = np.load(seg_file_path, allow_pickle=True).item()\n",
        "    roi_count = len(np.unique(seg_file['masks']))-1 # minus 1 since we don't consider background ROI\n",
        "\n",
        "    roi_counts.append(roi_count)"
      ]
    },
    {
      "cell_type": "code",
      "execution_count": null,
      "metadata": {
        "colab": {
          "base_uri": "https://localhost:8080/"
        },
        "id": "0Y1oeOCi7jYQ",
        "outputId": "ff06c700-f536-4ed1-976d-9bac4aa4e7c1"
      },
      "outputs": [
        {
          "data": {
            "text/plain": [
              "[0.7979084,\n",
              " 0.7651717,\n",
              " 0.8383876,\n",
              " 0.821946,\n",
              " 0.8273457,\n",
              " 0.8340392,\n",
              " 0.83079135,\n",
              " 0.83247864,\n",
              " 0.8128768,\n",
              " 0.83299446,\n",
              " 0.8379798,\n",
              " 0.83425367,\n",
              " 0.83072835,\n",
              " 0.82291067,\n",
              " 0.8339793]"
            ]
          },
          "execution_count": 27,
          "metadata": {},
          "output_type": "execute_result"
        }
      ],
      "source": [
        "ious"
      ]
    },
    {
      "cell_type": "code",
      "execution_count": null,
      "metadata": {
        "colab": {
          "base_uri": "https://localhost:8080/"
        },
        "id": "5qYdWaEp_2YJ",
        "outputId": "7c710cf6-c1b0-4def-e5a7-4e2b4c76ea53"
      },
      "outputs": [
        {
          "data": {
            "text/plain": [
              "[59, 135, 88, 113, 142, 149, 111, 71, 79, 81, 183, 94, 52, 60, 93]"
            ]
          },
          "execution_count": 28,
          "metadata": {},
          "output_type": "execute_result"
        }
      ],
      "source": [
        "roi_counts"
      ]
    },
    {
      "cell_type": "markdown",
      "metadata": {
        "id": "RUKPgwdU71lh"
      },
      "source": [
        "## Cyto2 Model: Final iou given 15 images."
      ]
    },
    {
      "cell_type": "code",
      "execution_count": null,
      "metadata": {
        "colab": {
          "base_uri": "https://localhost:8080/"
        },
        "id": "fLv2R_Q270vY",
        "outputId": "d8b94263-44bd-4db8-b027-96acf6fc709e"
      },
      "outputs": [
        {
          "name": "stdout",
          "output_type": "stream",
          "text": [
            ">>> average precision at iou threshold 0.5 for final cyto2 model = 0.834\n"
          ]
        }
      ],
      "source": [
        "print(f'>>> average precision at iou threshold 0.5 for final cyto2 model = {ious[-1]:.3f}')"
      ]
    },
    {
      "cell_type": "markdown",
      "metadata": {
        "id": "dZO68PBZ8DpI"
      },
      "source": [
        "## Cyto2 Model: Plot of average precision at iou = 0.5 against number of training ROIs."
      ]
    },
    {
      "cell_type": "code",
      "execution_count": null,
      "metadata": {
        "colab": {
          "base_uri": "https://localhost:8080/",
          "height": 472
        },
        "id": "JrCk-q2v8UFJ",
        "outputId": "a5e6a85e-9da6-4761-f200-dd5f96a598e5"
      },
      "outputs": [
        {
          "data": {
            "image/png": "[encoded data removed]",
            "text/plain": [
              "<Figure size 640x480 with 1 Axes>"
            ]
          },
          "metadata": {},
          "output_type": "display_data"
        }
      ],
      "source": [
        "# Calculate cumulative sum of ROI counts\n",
        "cumulative_roi_counts = [sum(roi_counts[:i+1]) for i in range(len(roi_counts))]\n",
        "\n",
        "# Plotting\n",
        "plt.plot(cumulative_roi_counts, ious, marker='o')\n",
        "plt.xlabel('Number of Training ROIs')\n",
        "plt.ylabel('Average Precision at IOU = 0.5')\n",
        "plt.title('Cyto2 Model (on all test images)')\n",
        "plt.show()"
      ]
    },
    {
      "cell_type": "markdown",
      "metadata": {
        "id": "ejyf1MWsobxI"
      },
      "source": [
        "## Training cyto3 Model."
      ]
    },
    {
      "cell_type": "code",
      "execution_count": null,
      "metadata": {
        "id": "d5bAymWqobPV"
      },
      "outputs": [],
      "source": [
        "# model name and path\n",
        "#@markdown ###Name of the pretrained model to start from and new model name:\n",
        "from cellpose import models\n",
        "initial_model = \"cyto3\" #@param ['cyto','nuclei','tissuenet','livecell','cyto2', 'CP','CPx','TN1','TN2','TN3','LC1','LC2','LC3','LC4','scratch', 'cyto3']\n",
        "model_name = \"cyto3ModelTrained\" #@param {type:\"string\"}\n",
        "\n",
        "# other parameters for training.\n",
        "#@markdown ###Training Parameters:\n",
        "#@markdown Number of epochs:\n",
        "n_epochs =  100#@param {type:\"number\"}\n",
        "\n",
        "Channel_to_use_for_training = \"Green\" #@param [\"Grayscale\", \"Blue\", \"Green\", \"Red\"]\n",
        "\n",
        "Second_training_channel= \"Blue\" #@param [\"None\", \"Blue\", \"Green\", \"Red\"]\n",
        "\n",
        "learning_rate = 0.1 #@param {type:\"number\"}\n",
        "weight_decay = 0.0001 #@param {type:\"number\"}\n",
        "\n",
        "#here we check that no model with the same name already exist, if so delete\n",
        "model_path = train_dir + 'models/'\n",
        "if os.path.exists(model_path+'/'+model_name):\n",
        "  print(\"!! WARNING: \"+model_name+\" already exists and will be deleted in the following cell !!\")\n",
        "\n",
        "# Here we match the channel to number\n",
        "if Channel_to_use_for_training == \"Grayscale\":\n",
        "  chan = 0\n",
        "elif Channel_to_use_for_training == \"Blue\":\n",
        "  chan = 3\n",
        "elif Channel_to_use_for_training == \"Green\":\n",
        "  chan = 2\n",
        "elif Channel_to_use_for_training == \"Red\":\n",
        "  chan = 1\n",
        "\n",
        "if Second_training_channel == \"Blue\":\n",
        "  chan2 = 3\n",
        "elif Second_training_channel == \"Green\":\n",
        "  chan2 = 2\n",
        "elif Second_training_channel == \"Red\":\n",
        "  chan2 = 1\n",
        "elif Second_training_channel == \"None\":\n",
        "  chan2 = 0\n",
        "\n",
        "if initial_model=='scratch':\n",
        "  initial_model = 'None'"
      ]
    },
    {
      "cell_type": "code",
      "execution_count": null,
      "metadata": {
        "colab": {
          "base_uri": "https://localhost:8080/"
        },
        "id": "zK30bzYA9SzW",
        "outputId": "93e0a0b1-c061-4b39-fa3a-a2a4a03850ba"
      },
      "outputs": [
        {
          "name": "stderr",
          "output_type": "stream",
          "text": [
            "100%|██████████| 25.3M/25.3M [00:00<00:00, 29.2MB/s]\n",
            "100%|██████████| 5/5 [00:02<00:00,  1.70it/s]\n",
            "100%|██████████| 1/1 [00:00<00:00, 129.06it/s]\n",
            "100%|██████████| 5/5 [00:00<00:00, 122.52it/s]\n",
            "100%|██████████| 2/2 [00:00<00:00,  2.29it/s]\n",
            "100%|██████████| 5/5 [00:02<00:00,  1.75it/s]\n",
            "100%|██████████| 2/2 [00:00<00:00, 158.39it/s]\n",
            "100%|██████████| 5/5 [00:00<00:00, 183.88it/s]\n",
            "100%|██████████| 3/3 [00:01<00:00,  2.20it/s]\n",
            "100%|██████████| 5/5 [00:02<00:00,  1.69it/s]\n",
            "100%|██████████| 3/3 [00:00<00:00, 109.68it/s]\n",
            "100%|██████████| 5/5 [00:00<00:00, 122.14it/s]\n",
            "100%|██████████| 4/4 [00:01<00:00,  2.37it/s]\n",
            "100%|██████████| 5/5 [00:02<00:00,  1.72it/s]\n",
            "100%|██████████| 4/4 [00:00<00:00, 113.77it/s]\n",
            "100%|██████████| 5/5 [00:00<00:00, 125.31it/s]\n",
            "100%|██████████| 5/5 [00:02<00:00,  2.26it/s]\n",
            "100%|██████████| 5/5 [00:02<00:00,  1.76it/s]\n",
            "100%|██████████| 5/5 [00:00<00:00, 160.05it/s]\n",
            "100%|██████████| 5/5 [00:00<00:00, 172.90it/s]\n",
            "100%|██████████| 6/6 [00:02<00:00,  2.07it/s]\n",
            "100%|██████████| 5/5 [00:02<00:00,  1.75it/s]\n",
            "100%|██████████| 6/6 [00:00<00:00, 158.70it/s]\n",
            "100%|██████████| 5/5 [00:00<00:00, 186.28it/s]\n",
            "100%|██████████| 7/7 [00:03<00:00,  2.08it/s]\n",
            "100%|██████████| 5/5 [00:02<00:00,  1.77it/s]\n",
            "100%|██████████| 7/7 [00:00<00:00, 187.47it/s]\n",
            "100%|██████████| 5/5 [00:00<00:00, 171.41it/s]\n",
            "100%|██████████| 8/8 [00:03<00:00,  2.10it/s]\n",
            "100%|██████████| 5/5 [00:02<00:00,  1.74it/s]\n",
            "100%|██████████| 8/8 [00:00<00:00, 191.60it/s]\n",
            "100%|██████████| 5/5 [00:00<00:00, 186.61it/s]\n",
            "100%|██████████| 9/9 [00:04<00:00,  2.17it/s]\n",
            "100%|██████████| 5/5 [00:02<00:00,  1.74it/s]\n",
            "100%|██████████| 9/9 [00:00<00:00, 183.64it/s]\n",
            "100%|██████████| 5/5 [00:00<00:00, 185.04it/s]\n",
            "100%|██████████| 10/10 [00:04<00:00,  2.18it/s]\n",
            "100%|██████████| 5/5 [00:02<00:00,  1.74it/s]\n",
            "100%|██████████| 10/10 [00:00<00:00, 171.05it/s]\n",
            "100%|██████████| 5/5 [00:00<00:00, 183.79it/s]\n",
            "100%|██████████| 11/11 [00:05<00:00,  2.11it/s]\n",
            "100%|██████████| 5/5 [00:02<00:00,  1.76it/s]\n",
            "100%|██████████| 11/11 [00:00<00:00, 180.97it/s]\n",
            "100%|██████████| 5/5 [00:00<00:00, 185.40it/s]\n",
            "100%|██████████| 12/12 [00:05<00:00,  2.17it/s]\n",
            "100%|██████████| 5/5 [00:02<00:00,  1.76it/s]\n",
            "100%|██████████| 12/12 [00:00<00:00, 181.06it/s]\n",
            "100%|██████████| 5/5 [00:00<00:00, 185.32it/s]\n",
            "100%|██████████| 13/13 [00:06<00:00,  2.09it/s]\n",
            "100%|██████████| 5/5 [00:02<00:00,  1.75it/s]\n",
            "100%|██████████| 13/13 [00:00<00:00, 186.59it/s]\n",
            "100%|██████████| 5/5 [00:00<00:00, 184.29it/s]\n",
            "100%|██████████| 14/14 [00:07<00:00,  2.00it/s]\n",
            "100%|██████████| 5/5 [00:02<00:00,  1.74it/s]\n",
            "100%|██████████| 14/14 [00:00<00:00, 118.73it/s]\n",
            "100%|██████████| 5/5 [00:00<00:00, 124.99it/s]\n",
            "100%|██████████| 15/15 [00:07<00:00,  1.91it/s]\n",
            "100%|██████████| 5/5 [00:02<00:00,  1.75it/s]\n",
            "100%|██████████| 15/15 [00:00<00:00, 185.83it/s]\n",
            "100%|██████████| 5/5 [00:00<00:00, 190.54it/s]\n"
          ]
        }
      ],
      "source": [
        "# logger to see training across epochs\n",
        "from cellpose.io import logger_setup\n",
        "from cellpose import train\n",
        "\n",
        "logger_setup();\n",
        "\n",
        "# set channels\n",
        "channels = [chan, chan2]\n",
        "\n",
        "# get files\n",
        "output = io.load_train_test_data(train_dir, test_dir, mask_filter='_seg.npy')\n",
        "train_data, train_labels, _, test_data, test_labels, _ = output\n",
        "\n",
        "# Initialize lists to store IoUs and ROI counts\n",
        "ious = []\n",
        "roi_counts = []\n",
        "\n",
        "# Iterate over each training image\n",
        "for i in range(len(train_data)):\n",
        "    # DEFINE CELLPOSE MODEL (without size model)\n",
        "    model = models.CellposeModel(gpu=use_GPU, model_type=initial_model)\n",
        "\n",
        "    # Train the model\n",
        "    new_model_path = train.train_seg(model.net, train_data=train_data[:i+1],\n",
        "                              train_labels=train_labels[:i+1],\n",
        "                              test_data=test_data,\n",
        "                              test_labels=test_labels,\n",
        "                              channels=channels,\n",
        "                              save_path=train_dir,\n",
        "                              n_epochs=n_epochs,\n",
        "                              learning_rate=learning_rate,\n",
        "                              weight_decay=weight_decay,\n",
        "                              SGD=True,\n",
        "                              nimg_per_epoch=8,\n",
        "                              model_name=f\"{model_name}_{i+1}\")\n",
        "\n",
        "    # diameter of labels in training images\n",
        "    diam_labels = model.net.diam_labels.item()\n",
        "\n",
        "    # Evaluate the model on the test dataset\n",
        "    masks = model.eval(test_data, channels=channels, diameter=diam_labels)[0]\n",
        "\n",
        "    # Compute IoU for each test image and average\n",
        "    ap = metrics.average_precision(test_labels, masks)[0]\n",
        "    mean_iou = ap[:, 0].mean()\n",
        "    ious.append(mean_iou)\n",
        "\n",
        "    seg_file_path = \"/content/gdrive/MyDrive/glialCellsImages/train/train\" + str(i+1) + \"_seg.npy\"\n",
        "    seg_file = np.load(seg_file_path, allow_pickle=True).item()\n",
        "    roi_count = len(np.unique(seg_file['masks']))-1 # minus 1 since we don't consider background ROI\n",
        "\n",
        "    roi_counts.append(roi_count)"
      ]
    },
    {
      "cell_type": "code",
      "execution_count": null,
      "metadata": {
        "colab": {
          "base_uri": "https://localhost:8080/"
        },
        "id": "vpgp3NKk9ZIz",
        "outputId": "899a7ceb-d963-40e1-df20-9fa94f1bc3d3"
      },
      "outputs": [
        {
          "data": {
            "text/plain": [
              "[0.62982744,\n",
              " 0.7033333,\n",
              " 0.7238893,\n",
              " 0.71389204,\n",
              " 0.7104541,\n",
              " 0.70972717,\n",
              " 0.7035421,\n",
              " 0.7147258,\n",
              " 0.6955356,\n",
              " 0.70469725,\n",
              " 0.6936332,\n",
              " 0.7070769,\n",
              " 0.714928,\n",
              " 0.72567654,\n",
              " 0.73857725]"
            ]
          },
          "execution_count": 33,
          "metadata": {},
          "output_type": "execute_result"
        }
      ],
      "source": [
        "ious"
      ]
    },
    {
      "cell_type": "code",
      "execution_count": null,
      "metadata": {
        "colab": {
          "base_uri": "https://localhost:8080/"
        },
        "id": "fe4yveCF-Cz0",
        "outputId": "5749c8d6-76f0-48cd-e389-33cb3e2d37b1"
      },
      "outputs": [
        {
          "data": {
            "text/plain": [
              "[59, 135, 88, 113, 142, 149, 111, 71, 79, 81, 183, 94, 52, 60, 93]"
            ]
          },
          "execution_count": 34,
          "metadata": {},
          "output_type": "execute_result"
        }
      ],
      "source": [
        "roi_counts"
      ]
    },
    {
      "cell_type": "markdown",
      "metadata": {
        "id": "2QrxCdSHomcP"
      },
      "source": [
        "## Cyto3 Model: Final iou given 15 images."
      ]
    },
    {
      "cell_type": "code",
      "execution_count": null,
      "metadata": {
        "colab": {
          "base_uri": "https://localhost:8080/"
        },
        "id": "EDAvbCAi-ejn",
        "outputId": "43da52f5-f128-4860-e8fe-e4c87b286d3f"
      },
      "outputs": [
        {
          "name": "stdout",
          "output_type": "stream",
          "text": [
            ">>> average precision at iou threshold 0.5 for final cyto3 model = 0.739\n"
          ]
        }
      ],
      "source": [
        "print(f'>>> average precision at iou threshold 0.5 for final cyto3 model = {ious[-1]:.3f}')"
      ]
    },
    {
      "cell_type": "markdown",
      "metadata": {
        "id": "8j6I6END-fQb"
      },
      "source": [
        "## Cyto3 Model: Plot of average precision at iou = 0.5 against number of training ROIs."
      ]
    },
    {
      "cell_type": "code",
      "execution_count": null,
      "metadata": {
        "colab": {
          "base_uri": "https://localhost:8080/",
          "height": 472
        },
        "id": "T6Eu7aOA-fvU",
        "outputId": "bbb33f78-c5c7-4a39-94c1-145e45afcb87"
      },
      "outputs": [
        {
          "data": {
            "image/png": "[encoded data removed]",
            "text/plain": [
              "<Figure size 640x480 with 1 Axes>"
            ]
          },
          "metadata": {},
          "output_type": "display_data"
        }
      ],
      "source": [
        "# Calculate cumulative sum of ROI counts\n",
        "cumulative_roi_counts = [sum(roi_counts[:i+1]) for i in range(len(roi_counts))]\n",
        "\n",
        "# Plotting\n",
        "plt.plot(cumulative_roi_counts, ious, marker='o')\n",
        "plt.xlabel('Number of Training ROIs')\n",
        "plt.ylabel('Average Precision at IOU = 0.5')\n",
        "plt.title('Cyto3 Model (on all test images)')\n",
        "plt.show()"
      ]
    },
    {
      "cell_type": "markdown",
      "metadata": {
        "id": "GY1a-TmDFbbw"
      },
      "source": [
        "From these results, we can observe that when trained on 15 images (with their segmentations obtained using a human-in-the-loop approach) and tested on 5 manually annotated images, we see that the average precision at iou threshold 0.5 is higher for the final cytoModelTrained. Thus, we will use cytoModelTrained to segment all the images we have access to."
      ]
    },
    {
      "cell_type": "markdown",
      "metadata": {
        "id": "IrFG3O7HF4r7"
      },
      "source": [
        "# Run our best model to segment our images."
      ]
    },
    {
      "cell_type": "code",
      "execution_count": null,
      "metadata": {
        "id": "QTH5asT0GB9z"
      },
      "outputs": [],
      "source": [
        "# model name and path\n",
        "\n",
        "#@markdown ###Full path to custom model:\n",
        "\n",
        "model_path = \"/content/gdrive/MyDrive/glialCellsImages/train/models/cytoModelTrained_15\" #@param {type:\"string\"}\n",
        "\n",
        "#@markdown ###Path to images:\n",
        "\n",
        "dir = \"/content/gdrive/MyDrive/images\" #@param {type:\"string\"}\n",
        "\n",
        "#@markdown ###Channel Parameters:\n",
        "\n",
        "Channel_to_use_for_segmentation = \"Green\" #@param [\"Grayscale\", \"Blue\", \"Green\", \"Red\"]\n",
        "\n",
        "# @markdown If you have a secondary channel that can be used, for instance nuclei, choose it here:\n",
        "\n",
        "Second_segmentation_channel= \"Blue\" #@param [\"None\", \"Blue\", \"Green\", \"Red\"]\n",
        "\n",
        "\n",
        "# Here we match the channel to number\n",
        "if Channel_to_use_for_segmentation == \"Grayscale\":\n",
        "  chan = 0\n",
        "elif Channel_to_use_for_segmentation == \"Blue\":\n",
        "  chan = 3\n",
        "elif Channel_to_use_for_segmentation == \"Green\":\n",
        "  chan = 2\n",
        "elif Channel_to_use_for_segmentation == \"Red\":\n",
        "  chan = 1\n",
        "\n",
        "\n",
        "if Second_segmentation_channel == \"Blue\":\n",
        "  chan2 = 3\n",
        "elif Second_segmentation_channel == \"Green\":\n",
        "  chan2 = 2\n",
        "elif Second_segmentation_channel == \"Red\":\n",
        "  chan2 = 1\n",
        "elif Second_segmentation_channel == \"None\":\n",
        "  chan2 = 0\n",
        "\n",
        "#@markdown ### Segmentation parameters:\n",
        "\n",
        "#@markdown diameter of cells (default uses diameter from training set):\n",
        "diameter =  0#@param {type:\"number\"}\n",
        "#@markdown threshold on flow error to accept a mask (set higher to get more cells, e.g. in range from (0.1, 3.0), OR set to 0.0 to turn off so no cells discarded):\n",
        "flow_threshold = 0.4 #@param {type:\"slider\", min:0.0, max:3.0, step:0.1}\n",
        "#@markdown threshold on cellprob output to seed cell masks (set lower to include more pixels or higher to include fewer, e.g. in range from (-6, 6)):\n",
        "cellprob_threshold=0 #@param {type:\"slider\", min:-6, max:6, step:1}"
      ]
    },
    {
      "cell_type": "markdown",
      "metadata": {
        "id": "jOimOUKZu5ST"
      },
      "source": [
        "Copy images to a new folder (denoted by dir+initial_model)."
      ]
    },
    {
      "cell_type": "code",
      "execution_count": null,
      "metadata": {
        "colab": {
          "base_uri": "https://localhost:8080/"
        },
        "id": "jvCL20ywu1zH",
        "outputId": "a86a8753-8222-420c-a742-a469d5865eac"
      },
      "outputs": [
        {
          "name": "stdout",
          "output_type": "stream",
          "text": [
            "/content/gdrive/MyDrive/images/image1.png > /content/gdrive/MyDrive/images/cytoModelTrained_15/image1.png\n",
            "/content/gdrive/MyDrive/images/image2.png > /content/gdrive/MyDrive/images/cytoModelTrained_15/image2.png\n",
            "/content/gdrive/MyDrive/images/image3.png > /content/gdrive/MyDrive/images/cytoModelTrained_15/image3.png\n",
            "/content/gdrive/MyDrive/images/image4.png > /content/gdrive/MyDrive/images/cytoModelTrained_15/image4.png\n",
            "/content/gdrive/MyDrive/images/image5.png > /content/gdrive/MyDrive/images/cytoModelTrained_15/image5.png\n",
            "/content/gdrive/MyDrive/images/image6.png > /content/gdrive/MyDrive/images/cytoModelTrained_15/image6.png\n",
            "/content/gdrive/MyDrive/images/image7.png > /content/gdrive/MyDrive/images/cytoModelTrained_15/image7.png\n",
            "/content/gdrive/MyDrive/images/image8.png > /content/gdrive/MyDrive/images/cytoModelTrained_15/image8.png\n",
            "/content/gdrive/MyDrive/images/image9.png > /content/gdrive/MyDrive/images/cytoModelTrained_15/image9.png\n",
            "/content/gdrive/MyDrive/images/image10.png > /content/gdrive/MyDrive/images/cytoModelTrained_15/image10.png\n",
            "/content/gdrive/MyDrive/images/image11.png > /content/gdrive/MyDrive/images/cytoModelTrained_15/image11.png\n",
            "/content/gdrive/MyDrive/images/image12.png > /content/gdrive/MyDrive/images/cytoModelTrained_15/image12.png\n",
            "/content/gdrive/MyDrive/images/image13.png > /content/gdrive/MyDrive/images/cytoModelTrained_15/image13.png\n",
            "/content/gdrive/MyDrive/images/image14.png > /content/gdrive/MyDrive/images/cytoModelTrained_15/image14.png\n",
            "/content/gdrive/MyDrive/images/image15.png > /content/gdrive/MyDrive/images/cytoModelTrained_15/image15.png\n",
            "/content/gdrive/MyDrive/images/image16.png > /content/gdrive/MyDrive/images/cytoModelTrained_15/image16.png\n",
            "/content/gdrive/MyDrive/images/image17.png > /content/gdrive/MyDrive/images/cytoModelTrained_15/image17.png\n",
            "/content/gdrive/MyDrive/images/image18.png > /content/gdrive/MyDrive/images/cytoModelTrained_15/image18.png\n",
            "/content/gdrive/MyDrive/images/image19.png > /content/gdrive/MyDrive/images/cytoModelTrained_15/image19.png\n",
            "/content/gdrive/MyDrive/images/image20.png > /content/gdrive/MyDrive/images/cytoModelTrained_15/image20.png\n",
            "/content/gdrive/MyDrive/images/image21.png > /content/gdrive/MyDrive/images/cytoModelTrained_15/image21.png\n",
            "/content/gdrive/MyDrive/images/image22.png > /content/gdrive/MyDrive/images/cytoModelTrained_15/image22.png\n",
            "/content/gdrive/MyDrive/images/image23.png > /content/gdrive/MyDrive/images/cytoModelTrained_15/image23.png\n",
            "/content/gdrive/MyDrive/images/image24.png > /content/gdrive/MyDrive/images/cytoModelTrained_15/image24.png\n",
            "/content/gdrive/MyDrive/images/image25.png > /content/gdrive/MyDrive/images/cytoModelTrained_15/image25.png\n",
            "/content/gdrive/MyDrive/images/image26.png > /content/gdrive/MyDrive/images/cytoModelTrained_15/image26.png\n",
            "/content/gdrive/MyDrive/images/image27.png > /content/gdrive/MyDrive/images/cytoModelTrained_15/image27.png\n",
            "/content/gdrive/MyDrive/images/image28.png > /content/gdrive/MyDrive/images/cytoModelTrained_15/image28.png\n",
            "/content/gdrive/MyDrive/images/image29.png > /content/gdrive/MyDrive/images/cytoModelTrained_15/image29.png\n",
            "/content/gdrive/MyDrive/images/image30.png > /content/gdrive/MyDrive/images/cytoModelTrained_15/image30.png\n",
            "/content/gdrive/MyDrive/images/image31.png > /content/gdrive/MyDrive/images/cytoModelTrained_15/image31.png\n",
            "/content/gdrive/MyDrive/images/image32.png > /content/gdrive/MyDrive/images/cytoModelTrained_15/image32.png\n",
            "/content/gdrive/MyDrive/images/image33.png > /content/gdrive/MyDrive/images/cytoModelTrained_15/image33.png\n",
            "/content/gdrive/MyDrive/images/image34.png > /content/gdrive/MyDrive/images/cytoModelTrained_15/image34.png\n",
            "/content/gdrive/MyDrive/images/image35.png > /content/gdrive/MyDrive/images/cytoModelTrained_15/image35.png\n",
            "/content/gdrive/MyDrive/images/image36.png > /content/gdrive/MyDrive/images/cytoModelTrained_15/image36.png\n",
            "/content/gdrive/MyDrive/images/image37.png > /content/gdrive/MyDrive/images/cytoModelTrained_15/image37.png\n",
            "/content/gdrive/MyDrive/images/image38.png > /content/gdrive/MyDrive/images/cytoModelTrained_15/image38.png\n",
            "/content/gdrive/MyDrive/images/image39.png > /content/gdrive/MyDrive/images/cytoModelTrained_15/image39.png\n",
            "/content/gdrive/MyDrive/images/image40.png > /content/gdrive/MyDrive/images/cytoModelTrained_15/image40.png\n",
            "/content/gdrive/MyDrive/images/image41.png > /content/gdrive/MyDrive/images/cytoModelTrained_15/image41.png\n",
            "/content/gdrive/MyDrive/images/image42.png > /content/gdrive/MyDrive/images/cytoModelTrained_15/image42.png\n",
            "/content/gdrive/MyDrive/images/image43.png > /content/gdrive/MyDrive/images/cytoModelTrained_15/image43.png\n",
            "/content/gdrive/MyDrive/images/image44.png > /content/gdrive/MyDrive/images/cytoModelTrained_15/image44.png\n",
            "/content/gdrive/MyDrive/images/image45.png > /content/gdrive/MyDrive/images/cytoModelTrained_15/image45.png\n",
            "/content/gdrive/MyDrive/images/image46.png > /content/gdrive/MyDrive/images/cytoModelTrained_15/image46.png\n",
            "/content/gdrive/MyDrive/images/image47.png > /content/gdrive/MyDrive/images/cytoModelTrained_15/image47.png\n",
            "/content/gdrive/MyDrive/images/image48.png > /content/gdrive/MyDrive/images/cytoModelTrained_15/image48.png\n",
            "/content/gdrive/MyDrive/images/image49.png > /content/gdrive/MyDrive/images/cytoModelTrained_15/image49.png\n",
            "/content/gdrive/MyDrive/images/image50.png > /content/gdrive/MyDrive/images/cytoModelTrained_15/image50.png\n"
          ]
        }
      ],
      "source": [
        "files = io.get_image_files(dir, '_masks')\n",
        "dir = dir + \"/\" + model_path.split(\"/\")[-1] + \"/\"\n",
        "os.makedirs(dir, exist_ok=True)\n",
        "for f in files:\n",
        "  dst = dir + os.path.split(f)[1]\n",
        "  print(f'{f} > {dst}')\n",
        "  shutil.copyfile(f, dst)"
      ]
    },
    {
      "cell_type": "code",
      "execution_count": null,
      "metadata": {
        "colab": {
          "base_uri": "https://localhost:8080/"
        },
        "id": "FJ3jwEXanzQ9",
        "outputId": "52521b4b-9d94-42a0-e1f5-dbd7b456f415"
      },
      "outputs": [
        {
          "name": "stdout",
          "output_type": "stream",
          "text": [
            "['/content/gdrive/MyDrive/images/cytoModelTrained_15/image1.png', '/content/gdrive/MyDrive/images/cytoModelTrained_15/image2.png', '/content/gdrive/MyDrive/images/cytoModelTrained_15/image3.png', '/content/gdrive/MyDrive/images/cytoModelTrained_15/image4.png', '/content/gdrive/MyDrive/images/cytoModelTrained_15/image5.png', '/content/gdrive/MyDrive/images/cytoModelTrained_15/image6.png', '/content/gdrive/MyDrive/images/cytoModelTrained_15/image7.png', '/content/gdrive/MyDrive/images/cytoModelTrained_15/image8.png', '/content/gdrive/MyDrive/images/cytoModelTrained_15/image9.png', '/content/gdrive/MyDrive/images/cytoModelTrained_15/image10.png', '/content/gdrive/MyDrive/images/cytoModelTrained_15/image11.png', '/content/gdrive/MyDrive/images/cytoModelTrained_15/image12.png', '/content/gdrive/MyDrive/images/cytoModelTrained_15/image13.png', '/content/gdrive/MyDrive/images/cytoModelTrained_15/image14.png', '/content/gdrive/MyDrive/images/cytoModelTrained_15/image15.png', '/content/gdrive/MyDrive/images/cytoModelTrained_15/image16.png', '/content/gdrive/MyDrive/images/cytoModelTrained_15/image17.png', '/content/gdrive/MyDrive/images/cytoModelTrained_15/image18.png', '/content/gdrive/MyDrive/images/cytoModelTrained_15/image19.png', '/content/gdrive/MyDrive/images/cytoModelTrained_15/image20.png', '/content/gdrive/MyDrive/images/cytoModelTrained_15/image21.png', '/content/gdrive/MyDrive/images/cytoModelTrained_15/image22.png', '/content/gdrive/MyDrive/images/cytoModelTrained_15/image23.png', '/content/gdrive/MyDrive/images/cytoModelTrained_15/image24.png', '/content/gdrive/MyDrive/images/cytoModelTrained_15/image25.png', '/content/gdrive/MyDrive/images/cytoModelTrained_15/image26.png', '/content/gdrive/MyDrive/images/cytoModelTrained_15/image27.png', '/content/gdrive/MyDrive/images/cytoModelTrained_15/image28.png', '/content/gdrive/MyDrive/images/cytoModelTrained_15/image29.png', '/content/gdrive/MyDrive/images/cytoModelTrained_15/image30.png', '/content/gdrive/MyDrive/images/cytoModelTrained_15/image31.png', '/content/gdrive/MyDrive/images/cytoModelTrained_15/image32.png', '/content/gdrive/MyDrive/images/cytoModelTrained_15/image33.png', '/content/gdrive/MyDrive/images/cytoModelTrained_15/image34.png', '/content/gdrive/MyDrive/images/cytoModelTrained_15/image35.png', '/content/gdrive/MyDrive/images/cytoModelTrained_15/image36.png', '/content/gdrive/MyDrive/images/cytoModelTrained_15/image37.png', '/content/gdrive/MyDrive/images/cytoModelTrained_15/image38.png', '/content/gdrive/MyDrive/images/cytoModelTrained_15/image39.png', '/content/gdrive/MyDrive/images/cytoModelTrained_15/image40.png', '/content/gdrive/MyDrive/images/cytoModelTrained_15/image41.png', '/content/gdrive/MyDrive/images/cytoModelTrained_15/image42.png', '/content/gdrive/MyDrive/images/cytoModelTrained_15/image43.png', '/content/gdrive/MyDrive/images/cytoModelTrained_15/image44.png', '/content/gdrive/MyDrive/images/cytoModelTrained_15/image45.png', '/content/gdrive/MyDrive/images/cytoModelTrained_15/image46.png', '/content/gdrive/MyDrive/images/cytoModelTrained_15/image47.png', '/content/gdrive/MyDrive/images/cytoModelTrained_15/image48.png', '/content/gdrive/MyDrive/images/cytoModelTrained_15/image49.png', '/content/gdrive/MyDrive/images/cytoModelTrained_15/image50.png']\n"
          ]
        }
      ],
      "source": [
        "# gets image files in dir (ignoring image files ending in _masks)\n",
        "files = io.get_image_files(dir, '_masks')\n",
        "print(files)\n",
        "images = [io.imread(f) for f in files]"
      ]
    },
    {
      "cell_type": "code",
      "execution_count": null,
      "metadata": {
        "id": "4p29dRhRRecg"
      },
      "outputs": [],
      "source": [
        "# declare model\n",
        "model = models.CellposeModel(gpu=use_GPU,\n",
        "                             pretrained_model=model_path)\n",
        "\n",
        "# use model diameter if user diameter is 0\n",
        "diameter = model.diam_labels if diameter==0 else diameter\n",
        "\n",
        "# run model on test images\n",
        "masks, flows, styles = model.eval(images,\n",
        "                                  channels=[chan, chan2],\n",
        "                                  diameter=diameter,\n",
        "                                  flow_threshold=flow_threshold,\n",
        "                                  cellprob_threshold=cellprob_threshold\n",
        "                                  )"
      ]
    },
    {
      "cell_type": "markdown",
      "metadata": {
        "id": "1l0CNEJbpSIv"
      },
      "source": [
        "# save output to *_seg.npy\n",
        "Save the results."
      ]
    },
    {
      "cell_type": "code",
      "execution_count": null,
      "metadata": {
        "id": "oauzVzPWLJNu"
      },
      "outputs": [],
      "source": [
        "from cellpose import io\n",
        "\n",
        "io.masks_flows_to_seg(images,\n",
        "                      masks,\n",
        "                      flows,\n",
        "                      diameter*np.ones(len(masks)),\n",
        "                      files,\n",
        "                      [chan, chan2])"
      ]
    }
  ],
  "metadata": {
    "accelerator": "GPU",
    "colab": {
      "gpuType": "T4",
      "provenance": []
    },
    "kernelspec": {
      "display_name": "Python 3",
      "name": "python3"
    },
    "language_info": {
      "name": "python"
    }
  },
  "nbformat": 4,
  "nbformat_minor": 0
}
